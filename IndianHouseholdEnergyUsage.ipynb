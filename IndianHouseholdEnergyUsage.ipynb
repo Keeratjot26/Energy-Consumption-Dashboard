{
 "cells": [
  {
   "cell_type": "code",
   "execution_count": 1,
   "id": "5a7c14ce-e167-4ad4-95ed-2b654c397d80",
   "metadata": {},
   "outputs": [],
   "source": [
    "import numpy as np \n",
    "import pandas as pd\n",
    "import matplotlib.pyplot as plt\n",
    "import seaborn as sns\n",
    "\n",
    "from ipywidgets import interact , interactive , widgets, fixed\n",
    "import warnings"
   ]
  },
  {
   "cell_type": "raw",
   "id": "de94c178-5bd8-440f-9b41-6f753407d59f",
   "metadata": {},
   "source": [
    "from ipywidgets import interact, interactive, widgets, fixed\n",
    "This line is importing functions and classes from the ipywidgets library, which is used to add interactive widgets like dropdowns, sliders, checkboxes in Jupyter notebooks.\n",
    "\n",
    "Here's what each item means:\n",
    "interact → Auto-generates UI controls (like sliders/dropdowns) for a function based on its arguments. It’s the most commonly used for quick dashboards.\n",
    "\n",
    "Example:\n",
    "interact(f, x=(0,10))  # Automatically creates a slider for x\n",
    "interactive → Similar to interact, but gives you more control (e.g., lets you store it in a variable and display later).\n",
    "widgets → Gives you access to all widget types like Dropdown, SelectMultiple, IntSlider, Text, etc.\n",
    "fixed → Used when you want to pass a constant value to a function used by interact but not expose it as a widget.\n",
    "\n",
    "Example:\n",
    "interact(f, x=fixed(10))  # x is always 10, no control shown"
   ]
  },
  {
   "cell_type": "code",
   "execution_count": 2,
   "id": "b1aa608f-0508-4e7e-86d1-7523f7b912bd",
   "metadata": {},
   "outputs": [],
   "source": [
    "warnings.filterwarnings('ignore') #ignores all the warning messages in the output "
   ]
  },
  {
   "cell_type": "code",
   "execution_count": 3,
   "id": "9a8b4191-f5f2-4825-bc1f-345e7ef6bb0c",
   "metadata": {},
   "outputs": [],
   "source": [
    "sns.set(style = 'whitegrid')"
   ]
  },
  {
   "cell_type": "code",
   "execution_count": 5,
   "id": "94610910-be8f-47aa-a8be-cba989074cdf",
   "metadata": {},
   "outputs": [],
   "source": [
    "np.random.seed(42) # this is done in order to get the same random number everytime rather than changing numbers "
   ]
  },
  {
   "cell_type": "code",
   "execution_count": 6,
   "id": "aded989b-7f8a-4438-8ba5-3e028efed08a",
   "metadata": {},
   "outputs": [],
   "source": [
    "num_rows = 1000 # we want 1000 rows in our dataset i.e 1000 households\n",
    "#Now setting the categories to which we will assign random values \n",
    "states = ['Delhi' , 'Mumbai', 'Kolkata' , 'Jammu & Kashmir' , 'Gujarat' ]\n",
    "regions = ['Urban' , 'Rural']\n",
    "appliances = ['AC' , 'Fridge' , 'Fan', 'TV' , 'Lights']\n",
    "time_of_day = ['Morning' , 'Afternoon', 'Evening', 'Night']\n"
   ]
  },
  {
   "cell_type": "code",
   "execution_count": 14,
   "id": "0d1c236e-2735-4045-a2f1-213260263411",
   "metadata": {},
   "outputs": [],
   "source": [
    "#now we generate a dictionary generating all the random rows which will be later converted to a dataframe \n",
    "#Each key is a column name, and each value is a NumPy array of length 1000 (as set by num_rows).\n",
    "data = {\n",
    "    \n",
    "    'Household_ID' : np.arange(1, num_rows+1), #np.arange(start, stop) is like Python’s fancy version of range(), but returns a NumPy array instead of a list.\n",
    "    'State': np.random.choice(states , num_rows), #randomly assigns a state to each household, making your data look more realistic and varied.\n",
    "    'Region' : np.random.choice(regions , num_rows),\n",
    "    'Appliances' : np.random.choice(appliances , num_rows), #np.random.choice() — random picks from an array or list\n",
    "    'Units_Consumed': np.round(np.random.normal(4, 2, num_rows), 2),# This generates num_rows random numbers from a normal (Gaussian) distribution.Mean (μ) = 4 Standard deviation (σ) = 2 So, you’re simulating data that clusters around 4 with a spread uptill 2 with round of decimal answers till 2 decimal places\n",
    "    'Usage Time' : np.random.choice(time_of_day, num_rows), \n",
    "    'Monthly Income' :np.random.randint(10000,100000,num_rows) # Generates random integer monthly income between ₹10,000 and ₹99,999 per household. Simulates realistic socio-economic variation.\n",
    "}\n",
    "    "
   ]
  },
  {
   "cell_type": "code",
   "execution_count": 15,
   "id": "93366f6c-a34a-438e-b330-940418d39038",
   "metadata": {},
   "outputs": [],
   "source": [
    "df = pd.DataFrame(data) #Now you can work with it like a regular table, do filtering, visualizations, etc.\n",
    "\n"
   ]
  },
  {
   "cell_type": "code",
   "execution_count": 16,
   "id": "09747a02-9fdf-47e1-8327-b7257ae28c96",
   "metadata": {},
   "outputs": [
    {
     "data": {
      "text/html": [
       "<div>\n",
       "<style scoped>\n",
       "    .dataframe tbody tr th:only-of-type {\n",
       "        vertical-align: middle;\n",
       "    }\n",
       "\n",
       "    .dataframe tbody tr th {\n",
       "        vertical-align: top;\n",
       "    }\n",
       "\n",
       "    .dataframe thead th {\n",
       "        text-align: right;\n",
       "    }\n",
       "</style>\n",
       "<table border=\"1\" class=\"dataframe\">\n",
       "  <thead>\n",
       "    <tr style=\"text-align: right;\">\n",
       "      <th></th>\n",
       "      <th>Household_ID</th>\n",
       "      <th>State</th>\n",
       "      <th>Region</th>\n",
       "      <th>Appliances</th>\n",
       "      <th>Units_Consumed</th>\n",
       "      <th>Usage Time</th>\n",
       "      <th>Monthly Income</th>\n",
       "    </tr>\n",
       "  </thead>\n",
       "  <tbody>\n",
       "    <tr>\n",
       "      <th>0</th>\n",
       "      <td>1</td>\n",
       "      <td>Kolkata</td>\n",
       "      <td>Rural</td>\n",
       "      <td>AC</td>\n",
       "      <td>3.24</td>\n",
       "      <td>Morning</td>\n",
       "      <td>16338</td>\n",
       "    </tr>\n",
       "    <tr>\n",
       "      <th>1</th>\n",
       "      <td>2</td>\n",
       "      <td>Delhi</td>\n",
       "      <td>Urban</td>\n",
       "      <td>Lights</td>\n",
       "      <td>0.91</td>\n",
       "      <td>Night</td>\n",
       "      <td>61761</td>\n",
       "    </tr>\n",
       "    <tr>\n",
       "      <th>2</th>\n",
       "      <td>3</td>\n",
       "      <td>Jammu &amp; Kashmir</td>\n",
       "      <td>Rural</td>\n",
       "      <td>TV</td>\n",
       "      <td>3.27</td>\n",
       "      <td>Evening</td>\n",
       "      <td>19622</td>\n",
       "    </tr>\n",
       "    <tr>\n",
       "      <th>3</th>\n",
       "      <td>4</td>\n",
       "      <td>Jammu &amp; Kashmir</td>\n",
       "      <td>Rural</td>\n",
       "      <td>TV</td>\n",
       "      <td>7.29</td>\n",
       "      <td>Night</td>\n",
       "      <td>58423</td>\n",
       "    </tr>\n",
       "    <tr>\n",
       "      <th>4</th>\n",
       "      <td>5</td>\n",
       "      <td>Gujarat</td>\n",
       "      <td>Urban</td>\n",
       "      <td>TV</td>\n",
       "      <td>5.18</td>\n",
       "      <td>Night</td>\n",
       "      <td>52873</td>\n",
       "    </tr>\n",
       "    <tr>\n",
       "      <th>...</th>\n",
       "      <td>...</td>\n",
       "      <td>...</td>\n",
       "      <td>...</td>\n",
       "      <td>...</td>\n",
       "      <td>...</td>\n",
       "      <td>...</td>\n",
       "      <td>...</td>\n",
       "    </tr>\n",
       "    <tr>\n",
       "      <th>995</th>\n",
       "      <td>996</td>\n",
       "      <td>Mumbai</td>\n",
       "      <td>Urban</td>\n",
       "      <td>Lights</td>\n",
       "      <td>6.18</td>\n",
       "      <td>Night</td>\n",
       "      <td>95476</td>\n",
       "    </tr>\n",
       "    <tr>\n",
       "      <th>996</th>\n",
       "      <td>997</td>\n",
       "      <td>Kolkata</td>\n",
       "      <td>Rural</td>\n",
       "      <td>Lights</td>\n",
       "      <td>6.71</td>\n",
       "      <td>Night</td>\n",
       "      <td>18988</td>\n",
       "    </tr>\n",
       "    <tr>\n",
       "      <th>997</th>\n",
       "      <td>998</td>\n",
       "      <td>Kolkata</td>\n",
       "      <td>Urban</td>\n",
       "      <td>AC</td>\n",
       "      <td>3.09</td>\n",
       "      <td>Afternoon</td>\n",
       "      <td>88488</td>\n",
       "    </tr>\n",
       "    <tr>\n",
       "      <th>998</th>\n",
       "      <td>999</td>\n",
       "      <td>Jammu &amp; Kashmir</td>\n",
       "      <td>Rural</td>\n",
       "      <td>TV</td>\n",
       "      <td>1.95</td>\n",
       "      <td>Afternoon</td>\n",
       "      <td>12977</td>\n",
       "    </tr>\n",
       "    <tr>\n",
       "      <th>999</th>\n",
       "      <td>1000</td>\n",
       "      <td>Jammu &amp; Kashmir</td>\n",
       "      <td>Rural</td>\n",
       "      <td>TV</td>\n",
       "      <td>5.63</td>\n",
       "      <td>Evening</td>\n",
       "      <td>64641</td>\n",
       "    </tr>\n",
       "  </tbody>\n",
       "</table>\n",
       "<p>1000 rows × 7 columns</p>\n",
       "</div>"
      ],
      "text/plain": [
       "     Household_ID            State Region Appliances  Units_Consumed  \\\n",
       "0               1          Kolkata  Rural         AC            3.24   \n",
       "1               2            Delhi  Urban     Lights            0.91   \n",
       "2               3  Jammu & Kashmir  Rural         TV            3.27   \n",
       "3               4  Jammu & Kashmir  Rural         TV            7.29   \n",
       "4               5          Gujarat  Urban         TV            5.18   \n",
       "..            ...              ...    ...        ...             ...   \n",
       "995           996           Mumbai  Urban     Lights            6.18   \n",
       "996           997          Kolkata  Rural     Lights            6.71   \n",
       "997           998          Kolkata  Urban         AC            3.09   \n",
       "998           999  Jammu & Kashmir  Rural         TV            1.95   \n",
       "999          1000  Jammu & Kashmir  Rural         TV            5.63   \n",
       "\n",
       "    Usage Time  Monthly Income  \n",
       "0      Morning           16338  \n",
       "1        Night           61761  \n",
       "2      Evening           19622  \n",
       "3        Night           58423  \n",
       "4        Night           52873  \n",
       "..         ...             ...  \n",
       "995      Night           95476  \n",
       "996      Night           18988  \n",
       "997  Afternoon           88488  \n",
       "998  Afternoon           12977  \n",
       "999    Evening           64641  \n",
       "\n",
       "[1000 rows x 7 columns]"
      ]
     },
     "execution_count": 16,
     "metadata": {},
     "output_type": "execute_result"
    }
   ],
   "source": [
    "df"
   ]
  },
  {
   "cell_type": "code",
   "execution_count": 17,
   "id": "9211163e-33c5-4419-b2f7-4d3481b21d0e",
   "metadata": {},
   "outputs": [
    {
     "data": {
      "text/html": [
       "<div>\n",
       "<style scoped>\n",
       "    .dataframe tbody tr th:only-of-type {\n",
       "        vertical-align: middle;\n",
       "    }\n",
       "\n",
       "    .dataframe tbody tr th {\n",
       "        vertical-align: top;\n",
       "    }\n",
       "\n",
       "    .dataframe thead th {\n",
       "        text-align: right;\n",
       "    }\n",
       "</style>\n",
       "<table border=\"1\" class=\"dataframe\">\n",
       "  <thead>\n",
       "    <tr style=\"text-align: right;\">\n",
       "      <th></th>\n",
       "      <th>Household_ID</th>\n",
       "      <th>State</th>\n",
       "      <th>Region</th>\n",
       "      <th>Appliances</th>\n",
       "      <th>Units_Consumed</th>\n",
       "      <th>Usage Time</th>\n",
       "      <th>Monthly Income</th>\n",
       "      <th>Tariff_Slab</th>\n",
       "    </tr>\n",
       "  </thead>\n",
       "  <tbody>\n",
       "    <tr>\n",
       "      <th>0</th>\n",
       "      <td>1</td>\n",
       "      <td>Kolkata</td>\n",
       "      <td>Rural</td>\n",
       "      <td>AC</td>\n",
       "      <td>3.24</td>\n",
       "      <td>Morning</td>\n",
       "      <td>16338</td>\n",
       "      <td>Medium</td>\n",
       "    </tr>\n",
       "    <tr>\n",
       "      <th>1</th>\n",
       "      <td>2</td>\n",
       "      <td>Delhi</td>\n",
       "      <td>Urban</td>\n",
       "      <td>Lights</td>\n",
       "      <td>0.91</td>\n",
       "      <td>Night</td>\n",
       "      <td>61761</td>\n",
       "      <td>Low</td>\n",
       "    </tr>\n",
       "    <tr>\n",
       "      <th>2</th>\n",
       "      <td>3</td>\n",
       "      <td>Jammu &amp; Kashmir</td>\n",
       "      <td>Rural</td>\n",
       "      <td>TV</td>\n",
       "      <td>3.27</td>\n",
       "      <td>Evening</td>\n",
       "      <td>19622</td>\n",
       "      <td>Medium</td>\n",
       "    </tr>\n",
       "    <tr>\n",
       "      <th>3</th>\n",
       "      <td>4</td>\n",
       "      <td>Jammu &amp; Kashmir</td>\n",
       "      <td>Rural</td>\n",
       "      <td>TV</td>\n",
       "      <td>7.29</td>\n",
       "      <td>Night</td>\n",
       "      <td>58423</td>\n",
       "      <td>High</td>\n",
       "    </tr>\n",
       "    <tr>\n",
       "      <th>4</th>\n",
       "      <td>5</td>\n",
       "      <td>Gujarat</td>\n",
       "      <td>Urban</td>\n",
       "      <td>TV</td>\n",
       "      <td>5.18</td>\n",
       "      <td>Night</td>\n",
       "      <td>52873</td>\n",
       "      <td>High</td>\n",
       "    </tr>\n",
       "  </tbody>\n",
       "</table>\n",
       "</div>"
      ],
      "text/plain": [
       "   Household_ID            State Region Appliances  Units_Consumed Usage Time  \\\n",
       "0             1          Kolkata  Rural         AC            3.24    Morning   \n",
       "1             2            Delhi  Urban     Lights            0.91      Night   \n",
       "2             3  Jammu & Kashmir  Rural         TV            3.27    Evening   \n",
       "3             4  Jammu & Kashmir  Rural         TV            7.29      Night   \n",
       "4             5          Gujarat  Urban         TV            5.18      Night   \n",
       "\n",
       "   Monthly Income Tariff_Slab  \n",
       "0           16338      Medium  \n",
       "1           61761         Low  \n",
       "2           19622      Medium  \n",
       "3           58423        High  \n",
       "4           52873        High  "
      ]
     },
     "execution_count": 17,
     "metadata": {},
     "output_type": "execute_result"
    }
   ],
   "source": [
    "#now depicting the tariff slab \n",
    "def calculate_tariff(units): #Takes an input units — which is the energy units consumed by a household.\n",
    "    if units <= 2 :\n",
    "        return 'Low'\n",
    "    elif 2< units <= 5:\n",
    "        return 'Medium'\n",
    "    else:\n",
    "        return 'High'\n",
    "        \n",
    "df['Tariff_Slab'] = df['Units_Consumed'].apply(calculate_tariff) #uns this function on every value in the 'Units_Consumed' column and the output is Tariff Slab\n",
    "df.head()"
   ]
  },
  {
   "cell_type": "code",
   "execution_count": 21,
   "id": "0453910b-eac4-4b23-b6c6-a7fa04ebeb5e",
   "metadata": {},
   "outputs": [],
   "source": [
    "#Now creating interactive widgets\n",
    "state_options = [''] + df['State'].unique().tolist()# we add an empty string as the default option , unnique() gives unique values to choose and . to list() is used to concatenate the empty list and the states numpy arraylist\n",
    "state_widget = widgets.Dropdown(\n",
    "    options = state_options, \n",
    "    value ='' , # Now it's safe to say \"default = blank\", because '' actually exists in the list.\n",
    "    description = 'State:'\n",
    ")\n",
    "region_widget = widgets.Dropdown(\n",
    "    options = ['All'] + df['Region'].unique().tolist(),\n",
    "    value = 'All',  # Default selection\n",
    "    description = 'Region:' #Label for the widget\n",
    ")\n",
    "\n",
    "    "
   ]
  },
  {
   "cell_type": "code",
   "execution_count": 23,
   "id": "58d50a62-088c-4f1a-89cb-1c8972279c71",
   "metadata": {},
   "outputs": [],
   "source": [
    "#TIME OF THE DAY WIDGET \n",
    "#Create a multi-select widget to filter data by time of day (e.g., Morning, Afternoon, etc.)\n",
    "time_widget = widgets.SelectMultiple(\n",
    "#'options' parameter defines what the user can choose from in the widget\n",
    "# We use .unique() to grab all the distinct time values from the 'Usage_Time' column (like Morning, Evening, Night)    \n",
    "    options = df['Usage Time'].unique(),\n",
    "# 'value' sets what options are selected by default when the widget is first displayed\n",
    "# The widget expects this to be a list or tuple, not a NumPy array — so we wrap it in tuple()\n",
    "# This line selects ALL available options by default (meaning no filtering is applied unless user changes it)  \n",
    "    value = tuple(df['Usage Time'].unique()),\n",
    "    description = 'Time of The Day'\n",
    ")"
   ]
  },
  {
   "cell_type": "code",
   "execution_count": 29,
   "id": "30ef7ba6-47a5-4568-a8c9-b2c09bf4531a",
   "metadata": {},
   "outputs": [
    {
     "data": {
      "application/vnd.jupyter.widget-view+json": {
       "model_id": "1f8078df19de4cc4a708df770703b1d5",
       "version_major": 2,
       "version_minor": 0
      },
      "text/plain": [
       "Dropdown(description='State:', options=('', 'Kolkata', 'Delhi', 'Jammu & Kashmir', 'Gujarat', 'Mumbai'), value…"
      ]
     },
     "metadata": {},
     "output_type": "display_data"
    },
    {
     "data": {
      "application/vnd.jupyter.widget-view+json": {
       "model_id": "05b81f6a76514bfbb30f2fe5d07e4857",
       "version_major": 2,
       "version_minor": 0
      },
      "text/plain": [
       "Dropdown(description='Region:', options=('All', 'Rural', 'Urban'), value='All')"
      ]
     },
     "metadata": {},
     "output_type": "display_data"
    },
    {
     "data": {
      "application/vnd.jupyter.widget-view+json": {
       "model_id": "0e5960897d4548678ae45595ccfced33",
       "version_major": 2,
       "version_minor": 0
      },
      "text/plain": [
       "SelectMultiple(description='Time of The Day', index=(0, 1, 2, 3), options=('Morning', 'Night', 'Evening', 'Aft…"
      ]
     },
     "metadata": {},
     "output_type": "display_data"
    }
   ],
   "source": [
    "display(state_widget, region_widget, time_widget)"
   ]
  },
  {
   "cell_type": "code",
   "execution_count": 31,
   "id": "464ca29d-d60e-449c-9fa4-f9d440feb93f",
   "metadata": {},
   "outputs": [],
   "source": [
    "state = state_widget.value\n",
    "region = region_widget.value\n",
    "time_list = list(time_widget.value)"
   ]
  },
  {
   "cell_type": "raw",
   "id": "f7e041a7-ccd5-4463-b6b4-29d85ddd5e5f",
   "metadata": {},
   "source": [
    "# Extract the current selection from the 'state' dropdown widget.\n",
    "# This grabs the value the user picked (e.g., 'Delhi' or '') to use in filtering.\n",
    "# Extract the current selection from the 'region' dropdown widget.\n",
    "# This gets the user’s choice (e.g., 'Urban', 'Rural', or 'All').\n",
    "# Extract the current selections from the 'time of day' multi-select widget.\n",
    "# Since multiple options can be chosen, we convert the tuple to a list for filtering."
   ]
  },
  {
   "cell_type": "code",
   "execution_count": 60,
   "id": "b81716bc-e523-494f-81fb-5d674d61ba1e",
   "metadata": {},
   "outputs": [],
   "source": [
    "def energy_dashboard(state, region, time_list):\n",
    "    \n",
    "#filtering the data frame \n",
    "    filtered = df.copy()\n",
    "    if state != '':\n",
    "        filtered = df[df['State'] == state] ## Filter the main DataFrame to include only rows where the 'State' matches the user's selection\n",
    "# If the user has selected a specific Region (not 'All'), filter further by that region\n",
    "    if region!= 'All!':\n",
    "        filtered = filtered[filtered['Region'] == region]\n",
    "# Filter the remaining data to include only rows where the 'Usage_Time' is in the selected list (e.g., Morning, Night)\n",
    "    filtered = filtered[filtered['Usage Time'].isin(time_list)]\n",
    "    display(filtered.head())\n",
    "    print(f\"Filtered Records : {len(filtered)}\") #this is a simple print statement to tell you how many records (rows) are in your filtered dataset.\n",
    "\n",
    "    #PLOTTING THE GRAPHS\n",
    "    fig,axes = plt.subplots(3,1, figsize = (5,10))#This creates 3 vertically stacked plots (3 rows, 1 column).ig = the overall figure (like a big canvas) ,axes = a list of 3 individual plot areas on that canvas\n",
    "#PLOT FOR APPLIANCE USAGE IN EACH STATE \n",
    "    sns.countplot( data = filtered , x = \"Appliances\", palette = 'mako', ax = axes[0])#ax=axes[0]: Draw this plot on the first subplot\n",
    "    axes[0].set_title(f'Appliance Usage in {state}')\n",
    "    axes[0].tick_params(axis = 'x',rotation = 45)\n",
    "\n",
    "    filtered['Tariff_Slab'].value_counts().plot.pie(\n",
    "        autopct='%1.1f%%', colors=sns.color_palette(\"pastel\"), ax=axes[1])\n",
    "    axes[1].set_title('Tariff Distribution')\n",
    "    axes[1].set_ylabel('')\n",
    "\n",
    "    sns.scatterplot(data=filtered, x='Monthly Income', y='Units_Consumed',\n",
    "                hue='Region', ax=axes[2], alpha=0.6)\n",
    "    axes[2].set_title('Income vs Consumption')\n",
    "\n",
    "    plt.tight_layout()\n",
    "    plt.show()"
   ]
  },
  {
   "cell_type": "code",
   "execution_count": 61,
   "id": "c84c798b-1e54-4a38-a7a7-4425dd092b9a",
   "metadata": {},
   "outputs": [
    {
     "data": {
      "application/vnd.jupyter.widget-view+json": {
       "model_id": "abb2132ae709413fb8c506ed0c25b1f7",
       "version_major": 2,
       "version_minor": 0
      },
      "text/plain": [
       "interactive(children=(Dropdown(description='State:', index=4, options=('', 'Kolkata', 'Delhi', 'Jammu & Kashmi…"
      ]
     },
     "metadata": {},
     "output_type": "display_data"
    },
    {
     "data": {
      "text/plain": [
       "<function __main__.energy_dashboard(state, region, time_list)>"
      ]
     },
     "metadata": {},
     "output_type": "display_data"
    }
   ],
   "source": [
    "interactive_dashboard = interact(\n",
    "    energy_dashboard,\n",
    "    state=state_widget,\n",
    "    region=region_widget,\n",
    "    time_list=time_widget\n",
    ")\n",
    "\n",
    "display(interactive_dashboard)\n"
   ]
  },
  {
   "cell_type": "markdown",
   "id": "e478076f-85f5-46f8-9dc3-e68d5261b8e6",
   "metadata": {},
   "source": [
    "We use 'filtered' instead of 'df' to create a temporary, progressively filtered version of the dataset.\n",
    "This avoids altering the original DataFrame and allows us to apply multiple filters step-by-step\n",
    "(State → Region → Usage Time) without restarting from scratch or losing previous filters.\n"
   ]
  },
  {
   "cell_type": "code",
   "execution_count": 44,
   "id": "2f3a447e-36dd-4e2c-a708-a79bac79423f",
   "metadata": {
    "jupyter": {
     "source_hidden": true
    }
   },
   "outputs": [],
   "source": [
    "#PLOT FOR APPLIANCE USAGE IN EACH STATE \n",
    "sns.countplot( data = filtered , x = \"Appliances\", palette = 'mako', ax = axes[0])#ax=axes[0]: Draw this plot on the first subplot\n",
    "axes[0].set_title(f'Appliance Usage in {state}')\n",
    "axes[0].tick_params(axis = 'x',rotation = 45)\n",
    "plt.show()"
   ]
  },
  {
   "cell_type": "code",
   "execution_count": 45,
   "id": "ff49a88b-0e02-4758-89b6-3076394e814f",
   "metadata": {
    "jupyter": {
     "source_hidden": true
    }
   },
   "outputs": [
    {
     "data": {
      "text/plain": [
       "Text(4.444444444444445, 0.5, '')"
      ]
     },
     "execution_count": 45,
     "metadata": {},
     "output_type": "execute_result"
    }
   ],
   "source": [
    "filtered['Tariff_Slab'].value_counts().plot.pie(\n",
    "    autopct='%1.1f%%', colors=sns.color_palette(\"pastel\"), ax=axes[1])\n",
    "axes[1].set_title('Tariff Distribution')\n",
    "axes[1].set_ylabel('')\n"
   ]
  },
  {
   "cell_type": "code",
   "execution_count": 46,
   "id": "89905d02-5351-47fc-b811-ddd737eeffac",
   "metadata": {
    "collapsed": true,
    "jupyter": {
     "outputs_hidden": true,
     "source_hidden": true
    }
   },
   "outputs": [
    {
     "data": {
      "text/plain": [
       "Text(0.5, 1.0, 'Income vs Consumption')"
      ]
     },
     "execution_count": 46,
     "metadata": {},
     "output_type": "execute_result"
    }
   ],
   "source": [
    "sns.scatterplot(data=filtered, x='Monthly Income', y='Units_Consumed',\n",
    "                hue='Region', ax=axes[2], alpha=0.6)\n",
    "axes[2].set_title('Income vs Consumption')"
   ]
  },
  {
   "cell_type": "code",
   "execution_count": 4,
   "id": "3e4e49d8-2b68-43cb-9527-a85605a6898e",
   "metadata": {},
   "outputs": [
    {
     "name": "stdout",
     "output_type": "stream",
     "text": [
      "['Solarize_Light2', '_classic_test_patch', '_mpl-gallery', '_mpl-gallery-nogrid', 'bmh', 'classic', 'dark_background', 'fast', 'fivethirtyeight', 'ggplot', 'grayscale', 'petroff10', 'seaborn-v0_8', 'seaborn-v0_8-bright', 'seaborn-v0_8-colorblind', 'seaborn-v0_8-dark', 'seaborn-v0_8-dark-palette', 'seaborn-v0_8-darkgrid', 'seaborn-v0_8-deep', 'seaborn-v0_8-muted', 'seaborn-v0_8-notebook', 'seaborn-v0_8-paper', 'seaborn-v0_8-pastel', 'seaborn-v0_8-poster', 'seaborn-v0_8-talk', 'seaborn-v0_8-ticks', 'seaborn-v0_8-white', 'seaborn-v0_8-whitegrid', 'tableau-colorblind10']\n"
     ]
    }
   ],
   "source": [
    "print(plt.style.available)"
   ]
  },
  {
   "cell_type": "code",
   "execution_count": null,
   "id": "bcec93ea-b63e-433e-984b-16ced4546f75",
   "metadata": {},
   "outputs": [],
   "source": []
  }
 ],
 "metadata": {
  "kernelspec": {
   "display_name": "Python 3 (ipykernel)",
   "language": "python",
   "name": "python3"
  },
  "language_info": {
   "codemirror_mode": {
    "name": "ipython",
    "version": 3
   },
   "file_extension": ".py",
   "mimetype": "text/x-python",
   "name": "python",
   "nbconvert_exporter": "python",
   "pygments_lexer": "ipython3",
   "version": "3.13.5"
  }
 },
 "nbformat": 4,
 "nbformat_minor": 5
}
